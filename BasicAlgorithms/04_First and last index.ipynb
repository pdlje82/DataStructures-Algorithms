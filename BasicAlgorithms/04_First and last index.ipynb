{
 "cells": [
  {
   "cell_type": "markdown",
   "metadata": {
    "graffitiCellId": "id_pr3r54a"
   },
   "source": [
    "## Problem statement\n",
    "\n",
    "Given a sorted array that may have duplicate values, use *binary search* to find the **first** and **last** indexes of a given value.\n",
    "\n",
    "For example, if you have the array `[0, 1, 2, 2, 3, 3, 3, 4, 5, 6]` and the given value is `3`, the answer will be `[4, 6]` (because the value `3` occurs first at index `4` and last at index `6` in the array).\n",
    "\n",
    "The expected complexity of the problem is $O(log(n))$."
   ]
  },
  {
   "cell_type": "code",
   "execution_count": 50,
   "metadata": {
    "graffitiCellId": "id_stslkm6"
   },
   "outputs": [],
   "source": [
    "def first_and_last_index(arr, target):\n",
    "    \"\"\"\n",
    "    Given a sorted array that may have duplicate values, use binary \n",
    "    search to find the first and last indexes of a given value.\n",
    "\n",
    "    Args:\n",
    "        arr(list): Sorted array (or Python list) that may have duplicate values\n",
    "        number(int): Value to search for in the array\n",
    "    Returns:\n",
    "        a list containing the first and last indexes of the given value\n",
    "    \"\"\"\n",
    "        \n",
    "    # TODO: Write your first_and_last function here\n",
    "    # Note that you may want to write helper functions to find the start \n",
    "    # index and the end index\n",
    "     \n",
    "    index = rbs(target, arr)\n",
    "    print('index: ', index)\n",
    "    if index is None:\n",
    "        return [-1, -1]\n",
    "    \n",
    "    # find left index\n",
    "    while arr[index] == target:\n",
    "        print('loop')\n",
    "        if index == 0:\n",
    "            left = 0\n",
    "            break\n",
    "        elif arr[index - 1] == target:\n",
    "            index -= 1\n",
    "        else:\n",
    "            left = index\n",
    "            break\n",
    "    # find right index\n",
    "    while arr[index] == target:\n",
    "        print('loop2')\n",
    "        if index == 0:\n",
    "            right = 0\n",
    "            break\n",
    "        elif index < len(arr) -1:\n",
    "            print('index {}: < len(arr) -1: {}'.format(index, len(arr) - 1))\n",
    "            if arr[index + 1] == target:\n",
    "                index += 1\n",
    "            else:\n",
    "                right = index\n",
    "                break\n",
    "        else:\n",
    "            right = index\n",
    "            break\n",
    "    print([left, right])        \n",
    "    return [left, right]       \n",
    "\n",
    "def rbs(target, source, left=0):\n",
    "    if len(source) == 0:\n",
    "        return None\n",
    "    center = (len(source)-1) // 2\n",
    "    if source[center] == target:\n",
    "        return center + left\n",
    "    elif source[center] < target:\n",
    "        return rbs(target, source[center+1:], left+center+1)\n",
    "    else:\n",
    "        return rbs(target, source[:center], left)"
   ]
  },
  {
   "cell_type": "markdown",
   "metadata": {
    "graffitiCellId": "id_y3lxp1x"
   },
   "source": [
    "<span class=\"graffiti-highlight graffiti-id_y3lxp1x-id_fkngaks\"><i></i><button>Show Solution</button></span>"
   ]
  },
  {
   "cell_type": "markdown",
   "metadata": {
    "graffitiCellId": "id_ii2o0tq"
   },
   "source": [
    "Below are several different test cases you can use to check your solution."
   ]
  },
  {
   "cell_type": "code",
   "execution_count": 51,
   "metadata": {
    "graffitiCellId": "id_a8bxvyg"
   },
   "outputs": [],
   "source": [
    "def test_function(test_case):\n",
    "    input_list = test_case[0]\n",
    "    number = test_case[1]\n",
    "    solution = test_case[2]\n",
    "    output = first_and_last_index(input_list, number)\n",
    "    if output == solution:\n",
    "        print(\"Pass\")\n",
    "    else:\n",
    "        print(\"Fail\")"
   ]
  },
  {
   "cell_type": "code",
   "execution_count": 52,
   "metadata": {
    "graffitiCellId": "id_20phd4q"
   },
   "outputs": [
    {
     "name": "stdout",
     "output_type": "stream",
     "text": [
      "index:  0\n",
      "loop\n",
      "loop2\n",
      "[0, 0]\n",
      "Pass\n"
     ]
    }
   ],
   "source": [
    "input_list = [1]\n",
    "number = 1\n",
    "solution = [0, 0]\n",
    "test_case_1 = [input_list, number, solution]\n",
    "test_function(test_case_1)"
   ]
  },
  {
   "cell_type": "code",
   "execution_count": 53,
   "metadata": {
    "graffitiCellId": "id_9p3166p"
   },
   "outputs": [
    {
     "name": "stdout",
     "output_type": "stream",
     "text": [
      "index:  4\n",
      "loop\n",
      "loop\n",
      "loop2\n",
      "index 3: < len(arr) -1: 9\n",
      "loop2\n",
      "index 4: < len(arr) -1: 9\n",
      "loop2\n",
      "index 5: < len(arr) -1: 9\n",
      "loop2\n",
      "index 6: < len(arr) -1: 9\n",
      "[3, 6]\n",
      "Pass\n"
     ]
    }
   ],
   "source": [
    "input_list = [0, 1, 2, 3, 3, 3, 3, 4, 5, 6]\n",
    "number = 3\n",
    "solution = [3, 6]\n",
    "test_case_2 = [input_list, number, solution]\n",
    "test_function(test_case_2)"
   ]
  },
  {
   "cell_type": "code",
   "execution_count": 54,
   "metadata": {
    "graffitiCellId": "id_pcvcepp"
   },
   "outputs": [
    {
     "name": "stdout",
     "output_type": "stream",
     "text": [
      "index:  5\n",
      "loop\n",
      "loop2\n",
      "[5, 5]\n",
      "Pass\n"
     ]
    }
   ],
   "source": [
    "input_list = [0, 1, 2, 3, 4, 5]\n",
    "number = 5\n",
    "solution = [5, 5]\n",
    "test_case_3 = [input_list, number, solution]\n",
    "test_function(test_case_3)"
   ]
  },
  {
   "cell_type": "code",
   "execution_count": 55,
   "metadata": {
    "graffitiCellId": "id_cz075rp"
   },
   "outputs": [
    {
     "name": "stdout",
     "output_type": "stream",
     "text": [
      "index:  None\n",
      "Pass\n"
     ]
    }
   ],
   "source": [
    "input_list = [0, 1, 2, 3, 4, 5]\n",
    "number = 6\n",
    "solution = [-1, -1]\n",
    "test_case_4 = [input_list, number, solution]\n",
    "test_function(test_case_4)"
   ]
  },
  {
   "cell_type": "code",
   "execution_count": null,
   "metadata": {
    "graffitiCellId": "id_fo4h68c"
   },
   "outputs": [],
   "source": []
  },
  {
   "cell_type": "code",
   "execution_count": null,
   "metadata": {
    "graffitiCellId": "id_05s9k5d"
   },
   "outputs": [],
   "source": []
  }
 ],
 "metadata": {
  "graffiti": {
   "firstAuthorId": "dev",
   "id": "id_qwr7xir",
   "language": "EN"
  },
  "kernelspec": {
   "display_name": "Python 3",
   "language": "python",
   "name": "python3"
  },
  "language_info": {
   "codemirror_mode": {
    "name": "ipython",
    "version": 3
   },
   "file_extension": ".py",
   "mimetype": "text/x-python",
   "name": "python",
   "nbconvert_exporter": "python",
   "pygments_lexer": "ipython3",
   "version": "3.6.3"
  }
 },
 "nbformat": 4,
 "nbformat_minor": 2
}
