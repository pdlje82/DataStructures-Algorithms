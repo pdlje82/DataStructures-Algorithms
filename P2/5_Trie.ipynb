{
 "cells": [
  {
   "cell_type": "markdown",
   "metadata": {},
   "source": [
    "# Building a Trie in Python\n",
    "\n",
    "Before we start let us reiterate the key components of a Trie or Prefix Tree. A trie is a tree-like data structure that stores a dynamic set of strings. Tries are commonly used to facilitate operations like predictive text or autocomplete features on mobile phones or web search.\n",
    "\n",
    "Before we move into the autocomplete function we need to create a working trie for storing strings.  We will create two classes:\n",
    "* A `Trie` class that contains the root node (empty string)\n",
    "* A `TrieNode` class that exposes the general functionality of the Trie, like inserting a word or finding the node which represents a prefix.\n",
    "\n",
    "Give it a try by implementing the `TrieNode` and `Trie` classes below!"
   ]
  },
  {
   "cell_type": "code",
   "execution_count": 1,
   "metadata": {},
   "outputs": [],
   "source": [
    "## Represents a single node in the Trie\n",
    "class TrieNode:\n",
    "    def __init__(self):\n",
    "        self.is_word = False\n",
    "        self.children = {}\n",
    "    \n",
    "    def insert(self, char):\n",
    "        ## Add a child node in this Trie\n",
    "        self.children[char] = TrieNode()\n",
    "        \n",
    "## The Trie itself containing the root node and insert/find functions\n",
    "class Trie:\n",
    "    def __init__(self):\n",
    "        self.root = TrieNode()\n",
    "\n",
    "    def insert(self, word):\n",
    "        ## Add `word` to trie\n",
    "        current_node = self.root\n",
    "        for char in word:\n",
    "            if char not in current_node.children:\n",
    "                current_node.insert(char)\n",
    "            current_node = current_node.children[char]\n",
    "        current_node.is_word = True \n",
    "\n",
    "    def find(self, prefix):\n",
    "        # Find the Trie node that represents this prefix\n",
    "        c_node = self.root\n",
    "        for char in prefix:\n",
    "            if char in c_node.children:\n",
    "                c_node = c_node.children[char]\n",
    "            else:\n",
    "                return False\n",
    "        return c_node\n"
   ]
  },
  {
   "cell_type": "markdown",
   "metadata": {},
   "source": [
    "# Finding Suffixes\n",
    "\n",
    "Now that we have a functioning Trie, we need to add the ability to list suffixes to implement our autocomplete feature.  To do that, we need to implement a new function on the `TrieNode` object that will return all complete word suffixes that exist below it in the trie.  For example, if our Trie contains the words `[\"fun\", \"function\", \"factory\"]` and we ask for suffixes from the `f` node, we would expect to receive `[\"un\", \"unction\", \"actory\"]` back from `node.suffixes()`.\n",
    "\n",
    "Using the code you wrote for the `TrieNode` above, try to add the suffixes function below. (Hint: recurse down the trie, collecting suffixes as you go.)"
   ]
  },
  {
   "cell_type": "code",
   "execution_count": 76,
   "metadata": {},
   "outputs": [],
   "source": [
    "class TrieNode:\n",
    "    def __init__(self):\n",
    "        self.is_word = False\n",
    "        self.children = {}\n",
    "        #self.suffix_list = []\n",
    "        self.num_node_visits = 0\n",
    "    \n",
    "    def insert(self, char):\n",
    "        ## Add a child node in this Trie\n",
    "        self.children[char] = TrieNode()\n",
    "        \n",
    "    def suffixes(self, suffix=''):\n",
    "        # Recursive function that collects the suffix for\n",
    "        # all complete words below this point\n",
    "        suffix_list = []\n",
    "        self.num_node_visits += 1\n",
    "        #print('suffix: {}, suffix_list: {}, self.num_node_visits: {}'.format(suffix, suffix_list, self.num_node_visits))\n",
    "        if self.is_word is True:\n",
    "            #print('self.is_word is True')\n",
    "            suffix_list.append(suffix)\n",
    "            #print('(is_word is True) suffix_list: ', suffix_list)\n",
    "            #return self.suffix_list\n",
    "\n",
    "        for char, node in self.children.items():\n",
    "            suffix += char\n",
    "            #print('start rec.----->')\n",
    "            suffix_list += node.suffixes(suffix)\n",
    "            #print('returning from rec. <--------')\n",
    "            #print('suffix: {}, suffix_list: {}, self.num_node_visits: {}'.format(suffix, suffix_list, self.num_node_visits))\n",
    "            suffix = suffix[:-1]\n",
    "        return suffix_list"
   ]
  },
  {
   "cell_type": "markdown",
   "metadata": {},
   "source": [
    "# Testing it all out\n",
    "\n",
    "Run the following code to add some words to your trie and then use the interactive search box to see what your code returns."
   ]
  },
  {
   "cell_type": "code",
   "execution_count": 77,
   "metadata": {},
   "outputs": [
    {
     "name": "stdout",
     "output_type": "stream",
     "text": [
      "\"ant\" is a word.\n",
      "\"goo\" is not a word.\n",
      "\"good\" is not a word.\n",
      "\"trigonometry\" is a word.\n",
      "\"factory\" is a word.\n"
     ]
    }
   ],
   "source": [
    "MyTrie = Trie()\n",
    "wordList = [\n",
    "    \"ant\", \"anthology\", \"antagonist\", \"antonym\", \n",
    "    \"fun\", \"function\", \"factory\", \n",
    "    \"trie\", \"trigger\", \"trigonometry\", \"tripod\"\n",
    "]\n",
    "for word in wordList:\n",
    "    MyTrie.insert(word)\n",
    "    \n",
    "# Test words\n",
    "test_words = ['ant', 'goo', 'good', 'trigonometry', 'factory']\n",
    "for word in test_words:\n",
    "    if MyTrie.find(word):\n",
    "        print('\"{}\" is a word.'.format(word))\n",
    "    else:\n",
    "        print('\"{}\" is not a word.'.format(word))"
   ]
  },
  {
   "cell_type": "code",
   "execution_count": 78,
   "metadata": {
    "scrolled": false
   },
   "outputs": [
    {
     "data": {
      "application/vnd.jupyter.widget-view+json": {
       "model_id": "8031387e3a00406dac9810af09121373",
       "version_major": 2,
       "version_minor": 0
      },
      "text/plain": [
       "interactive(children=(Text(value='', description='prefix'), Output()), _dom_classes=('widget-interact',))"
      ]
     },
     "metadata": {},
     "output_type": "display_data"
    }
   ],
   "source": [
    "from ipywidgets import widgets\n",
    "from IPython.display import display\n",
    "from ipywidgets import interact\n",
    "def f(prefix):\n",
    "    if prefix != '':\n",
    "        prefixNode = MyTrie.find(prefix)\n",
    "        if prefixNode:\n",
    "            print('\\n'.join(prefixNode.suffixes()))\n",
    "        else:\n",
    "            print(prefix + \" not found\")\n",
    "    else:\n",
    "        print('')\n",
    "interact(f,prefix='');"
   ]
  },
  {
   "cell_type": "code",
   "execution_count": null,
   "metadata": {},
   "outputs": [],
   "source": []
  },
  {
   "cell_type": "code",
   "execution_count": null,
   "metadata": {},
   "outputs": [],
   "source": []
  }
 ],
 "metadata": {
  "kernelspec": {
   "display_name": "Python 3",
   "language": "python",
   "name": "python3"
  },
  "language_info": {
   "codemirror_mode": {
    "name": "ipython",
    "version": 3
   },
   "file_extension": ".py",
   "mimetype": "text/x-python",
   "name": "python",
   "nbconvert_exporter": "python",
   "pygments_lexer": "ipython3",
   "version": "3.7.3"
  },
  "widgets": {
   "state": {},
   "version": "1.1.2"
  }
 },
 "nbformat": 4,
 "nbformat_minor": 2
}
